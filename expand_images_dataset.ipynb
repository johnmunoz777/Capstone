{
 "cells": [
  {
   "cell_type": "markdown",
   "metadata": {},
   "source": [
    "## Purpose of this code is to expand a specific image Folder Category\n",
    "*  Some Videos have differn't video length & we need some additinal images for Testing Data \n",
    "*  Testing on images of myself john \n",
    "- **Loads all images** from the `john` folder.\n",
    "- **Randomly selects an image** and applies **1-3 random transformations**.\n",
    "- **Saves the augmented images** in the `augmented_john` folder.\n",
    "- **Stops when the dataset reaches 100 images**.\n",
    "\n",
    "## Data Augmentation Techniques Applied\n",
    "\n",
    "This script enhances your dataset by applying a variety of transformations, ensuring maximum diversity for your PyTorch model training:\n",
    "\n",
    "- **Random Rotations**: Rotate the image by a random angle (up to 30 degrees).\n",
    "- **Color Jittering**: Modify the image's brightness, contrast, saturation, and hue.\n",
    "- **Horizontal and Vertical Flipping**: Flip the image randomly along the horizontal or vertical axis.\n",
    "- **Random Cropping and Resizing**: Randomly crop and resize the image within predefined limits.\n",
    "- **Random Affine Transformations**: Apply random scaling, translation, and shearing.\n",
    "- **Gaussian Blur**: Add a blur effect to simulate different focus conditions.\n",
    "- **Random Perspective Warp**: Apply random perspective distortion to the image.\n",
    "- **Random Erasing**: Simulate occlusions by randomly erasing parts of the image.\n",
    "- **Elastic Distortions**: Apply elastic distortions to introduce realistic shape variations.\n",
    "\n",
    "## Output\n",
    "\n",
    "This script will **expand your dataset to 100 images**, ensuring that each transformation varies for maximum diversity. This is critical to build a robust and generalized model."
   ]
  },
  {
   "cell_type": "code",
   "execution_count": 3,
   "metadata": {},
   "outputs": [],
   "source": [
    "import shutil\n",
    "from pathlib import Path\n",
    "from PIL import Image\n",
    "import random\n",
    "from torchvision import transforms\n",
    "import os "
   ]
  },
  {
   "cell_type": "code",
   "execution_count": null,
   "metadata": {},
   "outputs": [
    {
     "name": "stdout",
     "output_type": "stream",
     "text": [
      "Dataset expanded with 100 augmented images in 'john_augmented'.\n"
     ]
    },
    {
     "data": {
      "text/plain": [
       "140"
      ]
     },
     "execution_count": 4,
     "metadata": {},
     "output_type": "execute_result"
    }
   ],
   "source": [
    "# Input and output paths\n",
    "input_folder = \"john\"\n",
    "output_folder = \"john_augmented\"\n",
    "os.makedirs(output_folder, exist_ok=True)\n",
    "image_paths = list(Path(input_folder).glob(\"*.jpg\"))  # Adjust if using PNG/JPEG\n",
    "num_original_images = len(image_paths)\n",
    "print(num_original_images)\n",
    "# Number of augmented images we want\n",
    "num_augmented_images = 100\n",
    "\n",
    "# Define transformations\n",
    "transformations = [\n",
    "    transforms.RandomHorizontalFlip(p=1),\n",
    "    transforms.RandomVerticalFlip(p=1),\n",
    "    transforms.RandomRotation(degrees=30),\n",
    "    transforms.ColorJitter(brightness=0.4, contrast=0.4, saturation=0.4, hue=0.1),\n",
    "    transforms.RandomAffine(degrees=0, translate=(0.2, 0.2), scale=(0.8, 1.2), shear=10),\n",
    "    transforms.GaussianBlur(kernel_size=(5, 5), sigma=(0.1, 2.0)),\n",
    "    transforms.RandomPerspective(distortion_scale=0.5, p=1.0),\n",
    "    transforms.RandomResizedCrop(224, scale=(0.8, 1.0)),\n",
    "    transforms.RandomRotation(45),\n",
    "    transforms.RandomCrop(224),\n",
    "    transforms.RandomAutocontrast(),\n",
    "    transforms.RandomInvert(),\n",
    "    transforms.RandomAdjustSharpness(sharpness_factor=2, p=1),\n",
    "]\n",
    "\n",
    "# Copy original images to the output folder\n",
    "for img_path in image_paths:\n",
    "    shutil.copy(img_path, os.path.join(output_folder, img_path.name))\n",
    "\n",
    "# Apply transformations and save new images\n",
    "augmented_images_count = 0\n",
    "original_image_count = len(image_paths)\n",
    "\n",
    "# Generate exactly 100 augmented images in total\n",
    "while augmented_images_count < num_augmented_images:\n",
    "    img_path = random.choice(image_paths)  # Randomly pick an original image\n",
    "    img = Image.open(img_path).convert(\"RGB\")\n",
    "    \n",
    "    # Convert the image to tensor before applying any tensor-based transformations\n",
    "    img_tensor = transforms.ToTensor()(img)\n",
    "    \n",
    "    # Apply random transformations to tensor\n",
    "    transform = transforms.Compose(random.sample(transformations, k=random.randint(2, 5)))\n",
    "    \n",
    "    # Apply the transformations to the tensor\n",
    "    augmented_img_tensor = transform(img_tensor)\n",
    "    \n",
    "    # Convert tensor back to PIL image for saving\n",
    "    augmented_img = transforms.ToPILImage()(augmented_img_tensor)\n",
    "    \n",
    "    # Save augmented image\n",
    "    save_path = os.path.join(output_folder, f\"augmented_{augmented_images_count+1}.jpg\")\n",
    "    augmented_img.save(save_path)\n",
    "    \n",
    "    augmented_images_count += 1\n",
    "\n",
    "print(f\"Dataset expanded with {augmented_images_count} augmented images in '{output_folder}'.\")\n",
    "\n",
    "\n",
    "output_folder = \"john_augmented\"\n",
    "image_paths = list(Path(output_folder).glob(\"*.jpg\"))  # Adjust if using PNG/JPEG\n",
    "\n",
    "# Number of original images and target images\n",
    "num_original_images = len(image_paths)\n",
    "num_original_images"
   ]
  }
 ],
 "metadata": {
  "kernelspec": {
   "display_name": "capstone",
   "language": "python",
   "name": "python3"
  },
  "language_info": {
   "codemirror_mode": {
    "name": "ipython",
    "version": 3
   },
   "file_extension": ".py",
   "mimetype": "text/x-python",
   "name": "python",
   "nbconvert_exporter": "python",
   "pygments_lexer": "ipython3",
   "version": "3.10.16"
  }
 },
 "nbformat": 4,
 "nbformat_minor": 2
}
